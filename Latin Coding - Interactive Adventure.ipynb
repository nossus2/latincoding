{
 "cells": [
  {
   "cell_type": "markdown",
   "metadata": {},
   "source": [
    "## Coding an Interactive Adventure - Python and Latin series I\n",
    "    \n",
    "About this document:\n",
    "This type of notebook provides an interactive method of learning about coding.  Use your arrow keys to navigate the document.  When a cell is highlighted, you can hit \\*Shift Enter\\* to run the cell. \n",
    "\n",
    "Let's try it.  Use the down arrow to select the next cell and then it \\*Shift Enter\\*.\n",
    "    "
   ]
  },
  {
   "cell_type": "code",
   "execution_count": null,
   "metadata": {},
   "outputs": [],
   "source": [
    "print(\"You did it!\")"
   ]
  },
  {
   "cell_type": "markdown",
   "metadata": {},
   "source": [
    "### Our objective    \n",
    "You will see the marraige of functions and conditions while users navigate a story told in Latin.  Let's start by looking at some <span style=color:red> sample code </span>with an English story - this is copied from [pythonroom.com](http://www.pythonroom.com) (a great place to start learning python!)"
   ]
  },
  {
   "cell_type": "code",
   "execution_count": null,
   "metadata": {},
   "outputs": [],
   "source": [
    "def start():\n",
    "\tprint(\"You are Py, a villager of Codeia.\")\n",
    "\tadventure = input(\"Do you want to go on an adventure? Type in yes or no.\")\n",
    "\n",
    "\tif adventure == \"yes\":\n",
    "\t\tgoAdventure()\n",
    "\t\t\n",
    "def goAdventure():\n",
    "\twhere = input(\"Do you want to go to the forest or the mountain?\")\n",
    "\t\n",
    "\tif where == \"forest\":\n",
    "\t\tgoToForest()\n",
    "\telse:\n",
    "\t\tgoToMountain()\n",
    "\n",
    "def goToForest():\n",
    "\tprint(\"You head to the dark ...\")\n",
    "\troute = input(\"Do you take the long route or the short route?\")\n",
    "\t\n",
    "\tif route == \"short\":\n",
    "\t\tgetLost()\n",
    "\telse:\n",
    "\t\tgoToMountain()\n",
    "\t\t\n",
    "def goToMountain():\n",
    "\tprint(\"You have reach the mountain of the ...\")\n",
    "\t\n",
    "def getLost():\n",
    "\tprint(\"You got lost...\")\n",
    "\t\n",
    "# Don't forget to call the start function!\n",
    "start()\n",
    "\n",
    "# Call more functions to complete a story"
   ]
  },
  {
   "cell_type": "markdown",
   "metadata": {},
   "source": [
    "**There it is!  The basic program.**\n",
    "\n",
    "Look at the code carefully and interact with the program above.  Answer the question in the box above.\n",
    "\n",
    "Now let's read about the components of this python code:"
   ]
  },
  {
   "cell_type": "markdown",
   "metadata": {
    "collapsed": true
   },
   "source": [
    "# #\n",
    "\n",
    "When a # is used in Python, it indicates that there is a comment in the code.  A comment can be any words or instructions.  When a computer runs code, it ignores the comments.  They are usually input by the programmer to help explain their code.\n",
    "\n",
    "# def\n",
    "\n",
    "\"def\" introduces or \"defines\" a function.  A function is a command that contains special instructions.  The instructions for each function is indented under the \"def\" line and always follow a \":\" character.  In fact, whenever you see a \":\" in Python, it means that you will indent the next line to provide instructions.\n",
    "\n",
    "The function doesn't do anything until you call it.  The function is called by writing its name followed by the \"()\" - without \"def\" or anything else written before it."
   ]
  },
  {
   "cell_type": "code",
   "execution_count": null,
   "metadata": {},
   "outputs": [],
   "source": [
    "#defining a function\n",
    "def hello():\n",
    "\tprint(\"salve!\")\n",
    "\n",
    "#calling a function - which will actually print \"salve!\"\n",
    "hello()"
   ]
  },
  {
   "cell_type": "markdown",
   "metadata": {},
   "source": [
    "# variable\n",
    "\n",
    "In the code sample above,\n",
    "\n",
    "```\n",
    "<adventure = input(\"Would you like to go on an adventure?\")\n",
    "```\n",
    "\n",
    "\"adventure\" is a variable.  It is set equal to an input command.  Variables can be set equal to numbers, or strings (letters or numbers contained by quotation marks), or Boolean values (the words True or False).  Here adventure is set equal to the response to the Input command."
   ]
  },
  {
   "cell_type": "code",
   "execution_count": null,
   "metadata": {},
   "outputs": [],
   "source": [
    "#different types of variables\n",
    "\n",
    "#1. a number\n",
    "a = 0\n",
    "\n",
    "#2. a string\n",
    "b = \"uxor\"\n",
    "\n",
    "#3. a boolean value (booleans in Python have to capitalized)\n",
    "c = True\n",
    "\n",
    "#4. a variable can even be set equal to a function\n",
    "d = print()"
   ]
  },
  {
   "cell_type": "markdown",
   "metadata": {},
   "source": [
    "# input\n",
    "\n",
    "So, you are probably wondering what an input command does!  \n",
    "\n",
    "It is a function that allows a user to type a response.  This response can be saved as a value and stored in a variable.\n"
   ]
  },
  {
   "cell_type": "code",
   "execution_count": null,
   "metadata": {},
   "outputs": [],
   "source": [
    "#an example of an input function\n",
    "\n",
    "#set the variable a equal to what someone types as their name\n",
    "a = input(\"type your name:\")\n",
    "\n",
    "#now print a message followed by the value of the variable, a.\n",
    "print(\"Salve, \" + a)"
   ]
  },
  {
   "cell_type": "markdown",
   "metadata": {},
   "source": [
    "# if, elif, else\n",
    "\n",
    "These are examples of conditional statements.  They follow the logic you would expect in any language.  If something is true, do this, or if this is true, do this, otherwise, do this.\n",
    "\n",
    "\"If\" statements, like functions are followed by the \":\" character.  This lets the computer know that instructions or coding is following.  Those instructions must be indented.\n",
    "\n",
    "The \"==\" we would express in English as \"equals,\" but it has a different purpose from \"=\". \n",
    "\n",
    "* The \"=\" assigns a value.  Look at the variable samples higher up on this page.  \n",
    "* The \"==\" tests for whether a statement is True or False, its Boolean value.  We do this in a condition."
   ]
  },
  {
   "cell_type": "code",
   "execution_count": null,
   "metadata": {},
   "outputs": [],
   "source": [
    "#assign a variable to an input function\n",
    "a = input(\"What is your name? \")\n",
    "\n",
    "#put forth our condition\n",
    "if(a==\"Magister B\"):\n",
    "\n",
    "#indent and type our instructions \n",
    "\tprint(\"O, tu es senex!\")\n",
    "\n",
    "#now put forth a second condition\n",
    "elif(a==\"Clara\"):\n",
    "\tprint(\"tu es discipula bona!\")\n",
    "\n",
    "#now the response if the first two fail the condition test\n",
    "else:\n",
    "\tprint(\"ego sum laetus, quod tu ades!\")"
   ]
  },
  {
   "cell_type": "markdown",
   "metadata": {},
   "source": [
    "# print\n",
    "\n",
    "We didn't forget about print()!  \n",
    "\n",
    "I am sure you have it figured out by now.  But just in case, it is a function like input().  Print however writes to the screen or python console.  You can practice with print below if you want.  Just type what you want inbetween the parenthesis.  Hit \\*Shift Enter\\* to run the code.\n",
    "\n",
    "* If you are typing a string, it must be in quotes.\n",
    "* Variables and numbers do not have to be in quotes."
   ]
  },
  {
   "cell_type": "code",
   "execution_count": null,
   "metadata": {},
   "outputs": [],
   "source": [
    "print()"
   ]
  },
  {
   "cell_type": "markdown",
   "metadata": {},
   "source": [
    "## The pythonroom sample code:\n",
    "\n",
    "- The functions are defined in a list beginning at the top of the file.\n",
    "- The last line of code calls the first function and \"runs\" the program.\n",
    "- Within each function, conditions test for responses.  \n",
    "- If the test succeeds, it calls a new function.  \n",
    "- If it fails, it calls a different function."
   ]
  },
  {
   "cell_type": "markdown",
   "metadata": {},
   "source": [
    "## Your own code:\n",
    "\n",
    "- Highlight the cell with the sample code at the beginning of this file by clicking in its margin.  You should see a blue bar.\n",
    "- Hit \\*X\\* to cut the cell.\n",
    "- Scroll back to the bottom of this file.\n",
    "- Highlight the cell below this, blue bar again, and hit \\*V\\*.  This pastes the code here.\n",
    "- **Edit it by changing the English sentences into Latin. **\n",
    "- **Add or delete functions, edit and add more if, elif, and else statements, etc. **\n",
    "- To run the code, click on the cell, then hit \\*Shift Enter\\*.\n",
    "- Ask if you need help!"
   ]
  },
  {
   "cell_type": "code",
   "execution_count": null,
   "metadata": {
    "collapsed": true
   },
   "outputs": [],
   "source": [
    "#copy your code here!"
   ]
  }
 ],
 "metadata": {
  "kernelspec": {
   "display_name": "Python 3",
   "language": "python",
   "name": "python3"
  },
  "language_info": {
   "codemirror_mode": {
    "name": "ipython",
    "version": 3
   },
   "file_extension": ".py",
   "mimetype": "text/x-python",
   "name": "python",
   "nbconvert_exporter": "python",
   "pygments_lexer": "ipython3",
   "version": "3.6.3"
  }
 },
 "nbformat": 4,
 "nbformat_minor": 2
}
